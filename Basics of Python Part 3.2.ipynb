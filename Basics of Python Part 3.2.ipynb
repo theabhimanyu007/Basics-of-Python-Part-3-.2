{
 "cells": [
  {
   "cell_type": "code",
   "execution_count": 1,
   "metadata": {},
   "outputs": [],
   "source": [
    "aa=1000"
   ]
  },
  {
   "cell_type": "code",
   "execution_count": 2,
   "metadata": {},
   "outputs": [
    {
     "name": "stdout",
     "output_type": "stream",
     "text": [
      "F1: 20\n",
      "F2: 1000\n"
     ]
    }
   ],
   "source": [
    "#going on Global Variable:-\n",
    "def f1():\n",
    "    aa = 20\n",
    "    print('F1:', aa)\n",
    "    \n",
    "    \n",
    "def f2():\n",
    "    print('F2:', aa)\n",
    "\n",
    "\n",
    "f1()\n",
    "f2()"
   ]
  },
  {
   "cell_type": "code",
   "execution_count": 3,
   "metadata": {},
   "outputs": [
    {
     "name": "stdout",
     "output_type": "stream",
     "text": [
      "F1: 1000\n",
      "F2: 10\n"
     ]
    }
   ],
   "source": [
    "cust=10\n",
    "def f1():\n",
    "    cust= 1000\n",
    "    print('F1:', cust)\n",
    "    \n",
    "    \n",
    "def f2():\n",
    "    print('F2:', cust)\n",
    "\n",
    "\n",
    "f1()\n",
    "f2()"
   ]
  },
  {
   "cell_type": "code",
   "execution_count": 4,
   "metadata": {},
   "outputs": [
    {
     "name": "stdout",
     "output_type": "stream",
     "text": [
      "F1: 1000\n",
      "F2: 1000\n"
     ]
    }
   ],
   "source": [
    "cust=10\n",
    "def f1():\n",
    "    global cust\n",
    "    cust= 1000\n",
    "    print('F1:', cust)\n",
    "    \n",
    "    \n",
    "def f2():\n",
    "    print('F2:', cust)\n",
    "\n",
    "\n",
    "f1()\n",
    "f2()\n",
    "#that means if we defind global variable inside the  fun than value will be update with the local variable value.\n",
    "#global variable will also be update with local variable's value."
   ]
  },
  {
   "cell_type": "code",
   "execution_count": 5,
   "metadata": {},
   "outputs": [
    {
     "data": {
      "text/plain": [
       "1000"
      ]
     },
     "execution_count": 5,
     "metadata": {},
     "output_type": "execute_result"
    }
   ],
   "source": [
    "cust"
   ]
  },
  {
   "cell_type": "code",
   "execution_count": 6,
   "metadata": {},
   "outputs": [
    {
     "name": "stdout",
     "output_type": "stream",
     "text": [
      "X2: 10\n",
      "X1: 200\n"
     ]
    }
   ],
   "source": [
    "s=10\n",
    "def x2():\n",
    "    print('X2:', s)\n",
    "    \n",
    "    \n",
    "def x1():\n",
    "    global s\n",
    "    s=200\n",
    "    print('X1:', s)\n",
    "    \n",
    "x2()\n",
    "x1()\n"
   ]
  },
  {
   "cell_type": "code",
   "execution_count": 7,
   "metadata": {},
   "outputs": [
    {
     "name": "stdout",
     "output_type": "stream",
     "text": [
      "X1: 200\n",
      "X2: 200\n"
     ]
    }
   ],
   "source": [
    "s=10\n",
    "def x2():\n",
    "    print('X2:', s)\n",
    "    \n",
    "    \n",
    "def x1():\n",
    "    global s\n",
    "    s=200\n",
    "    print('X1:', s)\n",
    "    \n",
    "x1()\n",
    "x2()"
   ]
  },
  {
   "cell_type": "code",
   "execution_count": 8,
   "metadata": {},
   "outputs": [
    {
     "name": "stdout",
     "output_type": "stream",
     "text": [
      "X1: 200\n",
      "X2: 10\n"
     ]
    }
   ],
   "source": [
    "s=10\n",
    "def x2():\n",
    "    print('X2:', s)\n",
    "    \n",
    "    \n",
    "def x1():\n",
    "    s=200\n",
    "    print('X1:', s)\n",
    "    \n",
    "x1()\n",
    "x2()\n"
   ]
  },
  {
   "cell_type": "code",
   "execution_count": 9,
   "metadata": {},
   "outputs": [
    {
     "name": "stdout",
     "output_type": "stream",
     "text": [
      "F1: 777\n",
      "F2: 999\n",
      "F3: 999\n"
     ]
    }
   ],
   "source": [
    "def f1():\n",
    "    global s\n",
    "    s=777\n",
    "    print('F1:', s)\n",
    "    \n",
    "    \n",
    "def f2():\n",
    "    global s\n",
    "    s=999\n",
    "    print('F2:', s)\n",
    "    \n",
    "    \n",
    "def f3():\n",
    "    print('F3:', s)\n",
    "    \n",
    "\n",
    "f1()\n",
    "f2()\n",
    "f3()"
   ]
  },
  {
   "cell_type": "code",
   "execution_count": 10,
   "metadata": {},
   "outputs": [
    {
     "name": "stdout",
     "output_type": "stream",
     "text": [
      "F2: 999\n",
      "F1: 777\n",
      "F3: 777\n"
     ]
    }
   ],
   "source": [
    "def f1():\n",
    "    global s\n",
    "    s=777\n",
    "    print('F1:', s)\n",
    "    \n",
    "    \n",
    "def f2():\n",
    "    global s\n",
    "    s=999\n",
    "    print('F2:', s)\n",
    "    \n",
    "    \n",
    "def f3():\n",
    "    print('F3:', s)\n",
    "    \n",
    "\n",
    "f2()\n",
    "f1()\n",
    "f3()"
   ]
  },
  {
   "cell_type": "code",
   "execution_count": 11,
   "metadata": {},
   "outputs": [
    {
     "data": {
      "text/plain": [
       "{'__name__': '__main__',\n",
       " '__doc__': 'Automatically created module for IPython interactive environment',\n",
       " '__package__': None,\n",
       " '__loader__': None,\n",
       " '__spec__': None,\n",
       " '__builtin__': <module 'builtins' (built-in)>,\n",
       " '__builtins__': <module 'builtins' (built-in)>,\n",
       " '_ih': ['',\n",
       "  'aa=1000',\n",
       "  \"#going on Global Variable:-\\ndef f1():\\n    aa = 20\\n    print('F1:', aa)\\n    \\n    \\ndef f2():\\n    print('F2:', aa)\\n\\n\\nf1()\\nf2()\",\n",
       "  \"cust=10\\ndef f1():\\n    cust= 1000\\n    print('F1:', cust)\\n    \\n    \\ndef f2():\\n    print('F2:', cust)\\n\\n\\nf1()\\nf2()\",\n",
       "  \"cust=10\\ndef f1():\\n    global cust\\n    cust= 1000\\n    print('F1:', cust)\\n    \\n    \\ndef f2():\\n    print('F2:', cust)\\n\\n\\nf1()\\nf2()\\n#that means if we defind global variable inside the  fun than value will be update with the local variable value.\\n#global variable will also be update with local variable's value.\",\n",
       "  'cust',\n",
       "  \"s=10\\ndef x2():\\n    print('X2:', s)\\n    \\n    \\ndef x1():\\n    global s\\n    s=200\\n    print('X1:', s)\\n    \\nx2()\\nx1()\",\n",
       "  \"s=10\\ndef x2():\\n    print('X2:', s)\\n    \\n    \\ndef x1():\\n    global s\\n    s=200\\n    print('X1:', s)\\n    \\nx1()\\nx2()\",\n",
       "  \"s=10\\ndef x2():\\n    print('X2:', s)\\n    \\n    \\ndef x1():\\n    s=200\\n    print('X1:', s)\\n    \\nx1()\\nx2()\",\n",
       "  \"def f1():\\n    global s\\n    s=777\\n    print('F1:', s)\\n    \\n    \\ndef f2():\\n    global s\\n    s=999\\n    print('F2:', s)\\n    \\n    \\ndef f3():\\n    print('F3:', s)\\n    \\n\\nf1()\\nf2()\\nf3()\",\n",
       "  \"def f1():\\n    global s\\n    s=777\\n    print('F1:', s)\\n    \\n    \\ndef f2():\\n    global s\\n    s=999\\n    print('F2:', s)\\n    \\n    \\ndef f3():\\n    print('F3:', s)\\n    \\n\\nf2()\\nf1()\\nf3()\",\n",
       "  'globals()'],\n",
       " '_oh': {5: 1000},\n",
       " '_dh': ['C:\\\\Users\\\\Dell\\\\Desktop\\\\python'],\n",
       " 'In': ['',\n",
       "  'aa=1000',\n",
       "  \"#going on Global Variable:-\\ndef f1():\\n    aa = 20\\n    print('F1:', aa)\\n    \\n    \\ndef f2():\\n    print('F2:', aa)\\n\\n\\nf1()\\nf2()\",\n",
       "  \"cust=10\\ndef f1():\\n    cust= 1000\\n    print('F1:', cust)\\n    \\n    \\ndef f2():\\n    print('F2:', cust)\\n\\n\\nf1()\\nf2()\",\n",
       "  \"cust=10\\ndef f1():\\n    global cust\\n    cust= 1000\\n    print('F1:', cust)\\n    \\n    \\ndef f2():\\n    print('F2:', cust)\\n\\n\\nf1()\\nf2()\\n#that means if we defind global variable inside the  fun than value will be update with the local variable value.\\n#global variable will also be update with local variable's value.\",\n",
       "  'cust',\n",
       "  \"s=10\\ndef x2():\\n    print('X2:', s)\\n    \\n    \\ndef x1():\\n    global s\\n    s=200\\n    print('X1:', s)\\n    \\nx2()\\nx1()\",\n",
       "  \"s=10\\ndef x2():\\n    print('X2:', s)\\n    \\n    \\ndef x1():\\n    global s\\n    s=200\\n    print('X1:', s)\\n    \\nx1()\\nx2()\",\n",
       "  \"s=10\\ndef x2():\\n    print('X2:', s)\\n    \\n    \\ndef x1():\\n    s=200\\n    print('X1:', s)\\n    \\nx1()\\nx2()\",\n",
       "  \"def f1():\\n    global s\\n    s=777\\n    print('F1:', s)\\n    \\n    \\ndef f2():\\n    global s\\n    s=999\\n    print('F2:', s)\\n    \\n    \\ndef f3():\\n    print('F3:', s)\\n    \\n\\nf1()\\nf2()\\nf3()\",\n",
       "  \"def f1():\\n    global s\\n    s=777\\n    print('F1:', s)\\n    \\n    \\ndef f2():\\n    global s\\n    s=999\\n    print('F2:', s)\\n    \\n    \\ndef f3():\\n    print('F3:', s)\\n    \\n\\nf2()\\nf1()\\nf3()\",\n",
       "  'globals()'],\n",
       " 'Out': {5: 1000},\n",
       " 'get_ipython': <bound method InteractiveShell.get_ipython of <ipykernel.zmqshell.ZMQInteractiveShell object at 0x00000176834AC0C8>>,\n",
       " 'exit': <IPython.core.autocall.ZMQExitAutocall at 0x176848c8bc8>,\n",
       " 'quit': <IPython.core.autocall.ZMQExitAutocall at 0x176848c8bc8>,\n",
       " '_': 1000,\n",
       " '__': '',\n",
       " '___': '',\n",
       " '_i': \"def f1():\\n    global s\\n    s=777\\n    print('F1:', s)\\n    \\n    \\ndef f2():\\n    global s\\n    s=999\\n    print('F2:', s)\\n    \\n    \\ndef f3():\\n    print('F3:', s)\\n    \\n\\nf2()\\nf1()\\nf3()\",\n",
       " '_ii': \"def f1():\\n    global s\\n    s=777\\n    print('F1:', s)\\n    \\n    \\ndef f2():\\n    global s\\n    s=999\\n    print('F2:', s)\\n    \\n    \\ndef f3():\\n    print('F3:', s)\\n    \\n\\nf1()\\nf2()\\nf3()\",\n",
       " '_iii': \"s=10\\ndef x2():\\n    print('X2:', s)\\n    \\n    \\ndef x1():\\n    s=200\\n    print('X1:', s)\\n    \\nx1()\\nx2()\",\n",
       " '_i1': 'aa=1000',\n",
       " 'aa': 1000,\n",
       " '_i2': \"#going on Global Variable:-\\ndef f1():\\n    aa = 20\\n    print('F1:', aa)\\n    \\n    \\ndef f2():\\n    print('F2:', aa)\\n\\n\\nf1()\\nf2()\",\n",
       " 'f1': <function __main__.f1()>,\n",
       " 'f2': <function __main__.f2()>,\n",
       " '_i3': \"cust=10\\ndef f1():\\n    cust= 1000\\n    print('F1:', cust)\\n    \\n    \\ndef f2():\\n    print('F2:', cust)\\n\\n\\nf1()\\nf2()\",\n",
       " 'cust': 1000,\n",
       " '_i4': \"cust=10\\ndef f1():\\n    global cust\\n    cust= 1000\\n    print('F1:', cust)\\n    \\n    \\ndef f2():\\n    print('F2:', cust)\\n\\n\\nf1()\\nf2()\\n#that means if we defind global variable inside the  fun than value will be update with the local variable value.\\n#global variable will also be update with local variable's value.\",\n",
       " '_i5': 'cust',\n",
       " '_5': 1000,\n",
       " '_i6': \"s=10\\ndef x2():\\n    print('X2:', s)\\n    \\n    \\ndef x1():\\n    global s\\n    s=200\\n    print('X1:', s)\\n    \\nx2()\\nx1()\",\n",
       " 's': 777,\n",
       " 'x2': <function __main__.x2()>,\n",
       " 'x1': <function __main__.x1()>,\n",
       " '_i7': \"s=10\\ndef x2():\\n    print('X2:', s)\\n    \\n    \\ndef x1():\\n    global s\\n    s=200\\n    print('X1:', s)\\n    \\nx1()\\nx2()\",\n",
       " '_i8': \"s=10\\ndef x2():\\n    print('X2:', s)\\n    \\n    \\ndef x1():\\n    s=200\\n    print('X1:', s)\\n    \\nx1()\\nx2()\",\n",
       " '_i9': \"def f1():\\n    global s\\n    s=777\\n    print('F1:', s)\\n    \\n    \\ndef f2():\\n    global s\\n    s=999\\n    print('F2:', s)\\n    \\n    \\ndef f3():\\n    print('F3:', s)\\n    \\n\\nf1()\\nf2()\\nf3()\",\n",
       " 'f3': <function __main__.f3()>,\n",
       " '_i10': \"def f1():\\n    global s\\n    s=777\\n    print('F1:', s)\\n    \\n    \\ndef f2():\\n    global s\\n    s=999\\n    print('F2:', s)\\n    \\n    \\ndef f3():\\n    print('F3:', s)\\n    \\n\\nf2()\\nf1()\\nf3()\",\n",
       " '_i11': 'globals()'}"
      ]
     },
     "execution_count": 11,
     "metadata": {},
     "output_type": "execute_result"
    }
   ],
   "source": [
    "globals()"
   ]
  },
  {
   "cell_type": "code",
   "execution_count": 12,
   "metadata": {},
   "outputs": [
    {
     "name": "stdout",
     "output_type": "stream",
     "text": [
      "20\n",
      "10\n"
     ]
    }
   ],
   "source": [
    "#If you want to call your global varibale along with your local variable.\n",
    "a=10\n",
    "def f1():\n",
    "    a=20\n",
    "    print(a)\n",
    "    print(globals()['a'])\n",
    "f1()"
   ]
  },
  {
   "cell_type": "code",
   "execution_count": 13,
   "metadata": {},
   "outputs": [
    {
     "data": {
      "text/plain": [
       "120"
      ]
     },
     "execution_count": 13,
     "metadata": {},
     "output_type": "execute_result"
    }
   ],
   "source": [
    "#WAC for Recursive function\n",
    "def factorial(n):\n",
    "    if n==0:\n",
    "        result=1\n",
    "    else:\n",
    "        result = n*factorial(n-1)\n",
    "    return result\n",
    "\n",
    "factorial(5)\n",
    "    "
   ]
  },
  {
   "cell_type": "code",
   "execution_count": 14,
   "metadata": {},
   "outputs": [
    {
     "name": "stdout",
     "output_type": "stream",
     "text": [
      "outer function is calling\n",
      "inner function is calling\n"
     ]
    }
   ],
   "source": [
    "#Nested Function\n",
    "def outer():\n",
    "    print('outer function is calling')\n",
    "    def inner():\n",
    "        print('inner function is calling')\n",
    "    inner()\n",
    "    \n",
    "outer()"
   ]
  },
  {
   "cell_type": "code",
   "execution_count": 15,
   "metadata": {},
   "outputs": [],
   "source": [
    "#Lambda functions:- it is also known as:-\n",
    "#Anonymous functions\n",
    "#Nameless functions"
   ]
  },
  {
   "cell_type": "code",
   "execution_count": 16,
   "metadata": {},
   "outputs": [
    {
     "data": {
      "text/plain": [
       "<function __main__.<lambda>(x)>"
      ]
     },
     "execution_count": 16,
     "metadata": {},
     "output_type": "execute_result"
    }
   ],
   "source": [
    "lambda x : x*x"
   ]
  },
  {
   "cell_type": "code",
   "execution_count": 17,
   "metadata": {},
   "outputs": [
    {
     "data": {
      "text/plain": [
       "100"
      ]
     },
     "execution_count": 17,
     "metadata": {},
     "output_type": "execute_result"
    }
   ],
   "source": [
    "a1 = lambda x : x*x\n",
    "a1(10)"
   ]
  },
  {
   "cell_type": "code",
   "execution_count": 18,
   "metadata": {},
   "outputs": [
    {
     "data": {
      "text/plain": [
       "12"
      ]
     },
     "execution_count": 18,
     "metadata": {},
     "output_type": "execute_result"
    }
   ],
   "source": [
    "m1 = lambda a,b : a+b\n",
    "m1(10,2)"
   ]
  },
  {
   "cell_type": "code",
   "execution_count": 19,
   "metadata": {},
   "outputs": [
    {
     "data": {
      "text/plain": [
       "500"
      ]
     },
     "execution_count": 19,
     "metadata": {},
     "output_type": "execute_result"
    }
   ],
   "source": [
    "s1 = lambda a,b : a if a>b else b\n",
    "s1(100,500)"
   ]
  },
  {
   "cell_type": "code",
   "execution_count": 20,
   "metadata": {},
   "outputs": [],
   "source": [
    "#Three more functions in Python;-\n",
    "#Filter functions\n",
    "#Map Functions\n",
    "#Reduce Functions\n",
    "\n",
    "\n",
    "\n",
    "#Filter \n",
    "#Syntax;-\n",
    "           #filter(funcname, list)\n",
    "     \n",
    "        "
   ]
  },
  {
   "cell_type": "code",
   "execution_count": 21,
   "metadata": {},
   "outputs": [
    {
     "data": {
      "text/plain": [
       "[2, 4, 6, 8, 10]"
      ]
     },
     "execution_count": 21,
     "metadata": {},
     "output_type": "execute_result"
    }
   ],
   "source": [
    "#WAC to find the even numbers;-\n",
    "def iseven(n):\n",
    "    if n%2 == 0:\n",
    "         return True \n",
    "    else:\n",
    "        False\n",
    "        \n",
    "l=[2,3,4,5,6,7,8,9,10]\n",
    "list(filter(iseven, l))"
   ]
  },
  {
   "cell_type": "code",
   "execution_count": 22,
   "metadata": {},
   "outputs": [
    {
     "data": {
      "text/plain": [
       "(2, 4, 6, 8, 10)"
      ]
     },
     "execution_count": 22,
     "metadata": {},
     "output_type": "execute_result"
    }
   ],
   "source": [
    "#WAC to find the even numbers;- with tuples\n",
    "def iseven(n):\n",
    "    if n%2 == 0:\n",
    "         return True \n",
    "    else:\n",
    "        False\n",
    "        \n",
    "l=[2,3,4,5,6,7,8,9,10]\n",
    "tuple(filter(iseven, l))"
   ]
  },
  {
   "cell_type": "code",
   "execution_count": 23,
   "metadata": {},
   "outputs": [
    {
     "data": {
      "text/plain": [
       "[2, 4, 6, 8, 10]"
      ]
     },
     "execution_count": 23,
     "metadata": {},
     "output_type": "execute_result"
    }
   ],
   "source": [
    "#with Lambda functions;-\n",
    "list(filter(lambda n : n%2==0, l))"
   ]
  },
  {
   "cell_type": "code",
   "execution_count": 24,
   "metadata": {},
   "outputs": [
    {
     "data": {
      "text/plain": [
       "(2, 4, 6, 8, 10)"
      ]
     },
     "execution_count": 24,
     "metadata": {},
     "output_type": "execute_result"
    }
   ],
   "source": [
    "#with Lambda functions;-\n",
    "tuple(filter(lambda n : n%2==0, l))"
   ]
  },
  {
   "cell_type": "code",
   "execution_count": 25,
   "metadata": {},
   "outputs": [
    {
     "data": {
      "text/plain": [
       "[4, 6, 8, 10, 12, 14, 16]"
      ]
     },
     "execution_count": 25,
     "metadata": {},
     "output_type": "execute_result"
    }
   ],
   "source": [
    "#Map functions:-\n",
    "def double(x):\n",
    "    return 2*x\n",
    "l=[2,3,4,5,6,7,8]\n",
    "list(map(double, l))"
   ]
  },
  {
   "cell_type": "code",
   "execution_count": 26,
   "metadata": {},
   "outputs": [
    {
     "data": {
      "text/plain": [
       "[4, 6, 8, 10, 12, 14, 16]"
      ]
     },
     "execution_count": 26,
     "metadata": {},
     "output_type": "execute_result"
    }
   ],
   "source": [
    "list(map(lambda x : x*2, l))"
   ]
  },
  {
   "cell_type": "code",
   "execution_count": 27,
   "metadata": {},
   "outputs": [
    {
     "data": {
      "text/plain": [
       "[4, 6, 6, 4, 10]"
      ]
     },
     "execution_count": 27,
     "metadata": {},
     "output_type": "execute_result"
    }
   ],
   "source": [
    "list1= [1,2,3,4,5]\n",
    "list2= [4,3,2,1,2]\n",
    "list(map(lambda a,b : a*b, list1, list2))"
   ]
  },
  {
   "cell_type": "code",
   "execution_count": 28,
   "metadata": {},
   "outputs": [
    {
     "data": {
      "text/plain": [
       "150"
      ]
     },
     "execution_count": 28,
     "metadata": {},
     "output_type": "execute_result"
    }
   ],
   "source": [
    "#Reduce Function- used with the help of functools package.\n",
    "#perform sum operation for the given list\n",
    "#list1=[10,20,30,40,50]\n",
    "\n",
    "from functools import *\n",
    "list1=[10,20,30,40,50]\n",
    "reduce(lambda x,y : x+y, list1)\n"
   ]
  },
  {
   "cell_type": "code",
   "execution_count": 30,
   "metadata": {},
   "outputs": [
    {
     "name": "stdout",
     "output_type": "stream",
     "text": [
      "enter your cityDelhi\n",
      "your city is present\n"
     ]
    }
   ],
   "source": [
    "#String Operations\n",
    "#Linear Expressions\n",
    "\n",
    "#1- String Operations- To understand natural language processing.\n",
    "#e.g\n",
    "city=input('enter your city')\n",
    "list1=['Delhi', 'Mumbai', 'Shimla', 'Chennai']\n",
    "if city in list1:\n",
    "    print('your city is present')\n",
    "else:\n",
    "    print('your city is not present')\n",
    "#working fine. \n",
    "#Enter your city name with space in next cell"
   ]
  },
  {
   "cell_type": "code",
   "execution_count": 31,
   "metadata": {},
   "outputs": [
    {
     "name": "stdout",
     "output_type": "stream",
     "text": [
      "enter your city  Delhi\n",
      "your city is not present\n"
     ]
    }
   ],
   "source": [
    "city=input('enter your city')\n",
    "list1=['Delhi', 'Mumbai', 'Shimla', 'Chennai']\n",
    "if city in list1:\n",
    "    print('your city is present')\n",
    "else:\n",
    "    print('your city is not present') \n",
    "\n",
    "#gave your city is not present so how to get over this?"
   ]
  },
  {
   "cell_type": "code",
   "execution_count": 32,
   "metadata": {},
   "outputs": [
    {
     "data": {
      "text/plain": [
       "str"
      ]
     },
     "execution_count": 32,
     "metadata": {},
     "output_type": "execute_result"
    }
   ],
   "source": [
    "type(city)"
   ]
  },
  {
   "cell_type": "code",
   "execution_count": 33,
   "metadata": {},
   "outputs": [],
   "source": [
    "#so basically city is string and as like lists have its own function same city has it's own function\n",
    "#to get over from any restriction weather having space before the value or after the value or checking your o/p with having\n",
    "#special charc in between the i/p values.\n",
    "\n",
    "#Let's start with string functions\n",
    "#city(Str) functions"
   ]
  },
  {
   "cell_type": "code",
   "execution_count": 34,
   "metadata": {},
   "outputs": [
    {
     "name": "stdout",
     "output_type": "stream",
     "text": [
      "enter your city   Mumbai\n",
      "your city is present\n"
     ]
    }
   ],
   "source": [
    "#1-a;- lstrip();- it will remove the spaces from the left side\n",
    "#-b;- lstrip('$');- it will neglect the special charc.\n",
    "\n",
    "city=input('enter your city')\n",
    "list1=['Delhi', 'Mumbai', 'Shimla', 'Chennai']\n",
    "if city.lstrip() in list1:\n",
    "    print('your city is present')\n",
    "else:\n",
    "    print('your city is not present') \n",
    "\n",
    "#gave the space on left side while entering the value and it is working perfectly fine."
   ]
  },
  {
   "cell_type": "code",
   "execution_count": 35,
   "metadata": {},
   "outputs": [
    {
     "name": "stdout",
     "output_type": "stream",
     "text": [
      "enter your city$$$$Shimla\n",
      "your city is present\n"
     ]
    }
   ],
   "source": [
    "city=input('enter your city')\n",
    "list1=['Delhi', 'Mumbai', 'Shimla', 'Chennai']\n",
    "if city.lstrip('$') in list1:\n",
    "    print('your city is present')\n",
    "else:\n",
    "    print('your city is not present') \n",
    "\n",
    "#gave any special charc on left side while entering the value and it is working perfectly fine.\n"
   ]
  },
  {
   "cell_type": "code",
   "execution_count": 38,
   "metadata": {},
   "outputs": [
    {
     "name": "stdout",
     "output_type": "stream",
     "text": [
      "enter your cityChennai      \n",
      "your city is present\n"
     ]
    }
   ],
   "source": [
    "#2-a;- rstrip();- it will remove the spaces from the right side\n",
    "#-b;- rstrip('$');- it will neglect the special charc.\n",
    "\n",
    "city=input('enter your city')\n",
    "list1=['Delhi', 'Mumbai', 'Shimla', 'Chennai']\n",
    "if city.rstrip() in list1:\n",
    "    print('your city is present')\n",
    "else:\n",
    "    print('your city is not present') \n",
    "\n",
    "#gave the space on right side while entering the value and it is working  perfectly fine."
   ]
  },
  {
   "cell_type": "code",
   "execution_count": 39,
   "metadata": {},
   "outputs": [
    {
     "name": "stdout",
     "output_type": "stream",
     "text": [
      "enter your cityDelhi@@@@@@@\n",
      "your city is present\n"
     ]
    }
   ],
   "source": [
    "city=input('enter your city')\n",
    "list1=['Delhi', 'Mumbai', 'Shimla', 'Chennai']\n",
    "if city.rstrip('@') in list1:\n",
    "    print('your city is present')\n",
    "else:\n",
    "    print('your city is not present') \n",
    "\n",
    "#gave  special charc on right side while entering the value and it is working perfectly fine."
   ]
  },
  {
   "cell_type": "code",
   "execution_count": 40,
   "metadata": {},
   "outputs": [
    {
     "name": "stdout",
     "output_type": "stream",
     "text": [
      "enter your city         Delhi    \n",
      "your city is present\n"
     ]
    }
   ],
   "source": [
    "#3-a;- strip();- when we have both side space.\n",
    "#-b;- strip('$');- it will neglect the special charc from both side.\n",
    "\n",
    "\n",
    "city=input('enter your city')\n",
    "list1=['Delhi', 'Mumbai', 'Shimla', 'Chennai']\n",
    "if city.strip() in list1:\n",
    "    print('your city is present')\n",
    "else:\n",
    "    print('your city is not present') \n",
    "\n",
    "#gave  space both side while entering the value and it is working perfectly fine."
   ]
  },
  {
   "cell_type": "code",
   "execution_count": 41,
   "metadata": {},
   "outputs": [
    {
     "name": "stdout",
     "output_type": "stream",
     "text": [
      "enter your city###########Mumbai#########\n",
      "your city is present\n"
     ]
    }
   ],
   "source": [
    "city=input('enter your city')\n",
    "list1=['Delhi', 'Mumbai', 'Shimla', 'Chennai']\n",
    "if city.strip('#') in list1:\n",
    "    print('your city is present')\n",
    "else:\n",
    "    print('your city is not present') \n",
    "\n",
    "#gave special charc both side while entering the value and it is working perfectly fine."
   ]
  },
  {
   "cell_type": "code",
   "execution_count": 42,
   "metadata": {},
   "outputs": [
    {
     "data": {
      "text/plain": [
       "9"
      ]
     },
     "execution_count": 42,
     "metadata": {},
     "output_type": "execute_result"
    }
   ],
   "source": [
    "#with others string functions;-\n",
    "#find()\n",
    "\n",
    "s= 'AbhimanyuSrivastavaAbhimanyuSrivastava'\n",
    "s.find('Srivastava')\n",
    "#it gave the o/p - first iteration of srivastava"
   ]
  },
  {
   "cell_type": "code",
   "execution_count": 43,
   "metadata": {},
   "outputs": [
    {
     "data": {
      "text/plain": [
       "28"
      ]
     },
     "execution_count": 43,
     "metadata": {},
     "output_type": "execute_result"
    }
   ],
   "source": [
    "s= 'AbhimanyuSrivastavaAbhimanyuSrivastava'\n",
    "s.rfind('Srivastava')\n",
    "#if you want to find the second iteration of srivastava.\n",
    "#rfind- it will start finding the value from the  reverse."
   ]
  },
  {
   "cell_type": "code",
   "execution_count": 44,
   "metadata": {},
   "outputs": [
    {
     "data": {
      "text/plain": [
       "-1"
      ]
     },
     "execution_count": 44,
     "metadata": {},
     "output_type": "execute_result"
    }
   ],
   "source": [
    "#if you put any value which you are trying to find which is not present in the list it will give o/p as -1 that doesn't mean\n",
    "#it is a reverse index value.\n",
    "#e.g.\n",
    "\n",
    "s= 'AbhimanyuSrivastavaAbhimanyuSrivastava'\n",
    "s.find('Abhijit')"
   ]
  },
  {
   "cell_type": "code",
   "execution_count": 45,
   "metadata": {},
   "outputs": [
    {
     "data": {
      "text/plain": [
       "30"
      ]
     },
     "execution_count": 45,
     "metadata": {},
     "output_type": "execute_result"
    }
   ],
   "source": [
    "a='Abhiiiiiiiiiiiiiiiaiiiiiiiiiii'\n",
    "len(a)"
   ]
  },
  {
   "cell_type": "code",
   "execution_count": 46,
   "metadata": {},
   "outputs": [
    {
     "name": "stdout",
     "output_type": "stream",
     "text": [
      "enter the stringAbhiiiiiiiiiiiiiiiaiiiiiiiiiii\n",
      "enter the string that you are lookingi\n",
      "found value at the index of: 3\n",
      "found value at the index of: 11\n",
      "found value at the index of: 22\n"
     ]
    }
   ],
   "source": [
    "#Abhiiiiiiiiaiiiiiiiii\n",
    "#task find all the pos of i\n",
    "\n",
    "a = input('enter the string')\n",
    "look = input('enter the string that you are looking')\n",
    "flag = False\n",
    "pos = -1\n",
    "n = len(a)\n",
    "while True:\n",
    "    pos = s.find(look, pos+1, n)\n",
    "    if pos == -1:\n",
    "        break\n",
    "    print('found value at the index of:', pos)\n",
    "    flag = True\n",
    "if flag == False:\n",
    "    print('No', look , 'found')"
   ]
  },
  {
   "cell_type": "code",
   "execution_count": 47,
   "metadata": {},
   "outputs": [
    {
     "data": {
      "text/plain": [
       "'AnujSrivAnujSriv'"
      ]
     },
     "execution_count": 47,
     "metadata": {},
     "output_type": "execute_result"
    }
   ],
   "source": [
    "#replace()\n",
    "s='AbhimanyuSrivAbhimanyuSriv'\n",
    "s.replace('Abhimanyu', 'Anuj')"
   ]
  },
  {
   "cell_type": "code",
   "execution_count": 48,
   "metadata": {},
   "outputs": [
    {
     "name": "stdout",
     "output_type": "stream",
     "text": [
      "1608541779568\n",
      "1608542249568\n"
     ]
    }
   ],
   "source": [
    "s='AbhimanyuSrivAbhimanyuSriv'\n",
    "print(id(s))\n",
    "s=s.replace('Abhimanyu', 'Anuj')\n",
    "print(id(s))\n",
    "#memory location has changed of both the s."
   ]
  },
  {
   "cell_type": "code",
   "execution_count": 49,
   "metadata": {},
   "outputs": [
    {
     "data": {
      "text/plain": [
       "['Abhi', 'Srivastav', 'Anuj']"
      ]
     },
     "execution_count": 49,
     "metadata": {},
     "output_type": "execute_result"
    }
   ],
   "source": [
    "s='Abhi Srivastav Anuj'\n",
    "s.split()\n",
    "#so basically split func is helping us to store the large value into an individual string value and storing it into  a list"
   ]
  },
  {
   "cell_type": "code",
   "execution_count": 50,
   "metadata": {},
   "outputs": [
    {
     "data": {
      "text/plain": [
       "['Abhimanyu', 'Sriv', 'is', 'a', 'Data', 'Scientist']"
      ]
     },
     "execution_count": 50,
     "metadata": {},
     "output_type": "execute_result"
    }
   ],
   "source": [
    "s='Abhimanyu Sriv is a Data Scientist'\n",
    "s.split()"
   ]
  },
  {
   "cell_type": "code",
   "execution_count": 51,
   "metadata": {},
   "outputs": [
    {
     "data": {
      "text/plain": [
       "['A', 'B', 'C', 'D', 'E', 'F-G-H-I-J']"
      ]
     },
     "execution_count": 51,
     "metadata": {},
     "output_type": "execute_result"
    }
   ],
   "source": [
    "s= 'A-B-C-D-E-F-G-H-I-J'\n",
    "s.split('-', 5)"
   ]
  },
  {
   "cell_type": "code",
   "execution_count": 52,
   "metadata": {},
   "outputs": [
    {
     "name": "stdout",
     "output_type": "stream",
     "text": [
      "abhimanyu sriv is a data scientist\n",
      "ABHIMANYU SRIV IS A DATA SCIENTIST\n",
      "aBHIMANYU sRIV IS A dATA sCIENTIST\n",
      "Abhimanyu Sriv Is A Data Scientist\n",
      "Abhimanyu sriv is a data scientist\n"
     ]
    }
   ],
   "source": [
    "a= 'Abhimanyu Sriv is a Data Scientist'\n",
    "print(a.lower())\n",
    "print(a.upper())\n",
    "print(a.swapcase())\n",
    "print(a.title())\n",
    "print(a.capitalize())"
   ]
  },
  {
   "cell_type": "code",
   "execution_count": 53,
   "metadata": {},
   "outputs": [
    {
     "data": {
      "text/plain": [
       "True"
      ]
     },
     "execution_count": 53,
     "metadata": {},
     "output_type": "execute_result"
    }
   ],
   "source": [
    "b='learning python is very simple'\n",
    "b.startswith('learn')"
   ]
  },
  {
   "cell_type": "code",
   "execution_count": 54,
   "metadata": {},
   "outputs": [
    {
     "data": {
      "text/plain": [
       "False"
      ]
     },
     "execution_count": 54,
     "metadata": {},
     "output_type": "execute_result"
    }
   ],
   "source": [
    "b='learning python is very simple'\n",
    "b.endswith('learn')"
   ]
  },
  {
   "cell_type": "code",
   "execution_count": 55,
   "metadata": {},
   "outputs": [
    {
     "ename": "NameError",
     "evalue": "name 'isalnum' is not defined",
     "output_type": "error",
     "traceback": [
      "\u001b[1;31m---------------------------------------------------------------------------\u001b[0m",
      "\u001b[1;31mNameError\u001b[0m                                 Traceback (most recent call last)",
      "\u001b[1;32m<ipython-input-55-48a021b31d3f>\u001b[0m in \u001b[0;36m<module>\u001b[1;34m\u001b[0m\n\u001b[1;32m----> 1\u001b[1;33m \u001b[0misalnum\u001b[0m\u001b[1;33m(\u001b[0m\u001b[1;33m)\u001b[0m\u001b[1;33m\u001b[0m\u001b[1;33m\u001b[0m\u001b[0m\n\u001b[0m\u001b[0;32m      2\u001b[0m \u001b[0misalpha\u001b[0m\u001b[1;33m(\u001b[0m\u001b[1;33m)\u001b[0m\u001b[1;33m\u001b[0m\u001b[1;33m\u001b[0m\u001b[0m\n\u001b[0;32m      3\u001b[0m \u001b[0misdigit\u001b[0m\u001b[1;33m(\u001b[0m\u001b[1;33m)\u001b[0m\u001b[1;33m\u001b[0m\u001b[1;33m\u001b[0m\u001b[0m\n\u001b[0;32m      4\u001b[0m \u001b[0mislower\u001b[0m\u001b[1;33m(\u001b[0m\u001b[1;33m)\u001b[0m\u001b[1;33m\u001b[0m\u001b[1;33m\u001b[0m\u001b[0m\n\u001b[0;32m      5\u001b[0m \u001b[0misupper\u001b[0m\u001b[1;33m(\u001b[0m\u001b[1;33m)\u001b[0m\u001b[1;33m\u001b[0m\u001b[1;33m\u001b[0m\u001b[0m\n",
      "\u001b[1;31mNameError\u001b[0m: name 'isalnum' is not defined"
     ]
    }
   ],
   "source": [
    "isalnum()\n",
    "isalpha()\n",
    "isdigit()\n",
    "islower()\n",
    "isupper()\n",
    "istitle()\n",
    "isspace()"
   ]
  },
  {
   "cell_type": "code",
   "execution_count": 56,
   "metadata": {},
   "outputs": [
    {
     "name": "stdout",
     "output_type": "stream",
     "text": [
      "False\n"
     ]
    }
   ],
   "source": [
    "print('Abhi123'.isalpha())"
   ]
  },
  {
   "cell_type": "code",
   "execution_count": 62,
   "metadata": {},
   "outputs": [
    {
     "name": "stdout",
     "output_type": "stream",
     "text": [
      "True\n",
      "True\n",
      "True\n",
      "True\n",
      "False\n"
     ]
    }
   ],
   "source": [
    "print('Abhi123'.isalnum())\n",
    "print('Abhi'.isalpha())\n",
    "print('123'.isdigit())\n",
    "print(' '.isspace())\n",
    "print('Abhi'.islower())"
   ]
  },
  {
   "cell_type": "code",
   "execution_count": 63,
   "metadata": {},
   "outputs": [
    {
     "name": "stdout",
     "output_type": "stream",
     "text": [
      "enter the stringAbhi123\n",
      "It is alpha numeric string\n",
      "It is a digit\n"
     ]
    }
   ],
   "source": [
    "s= input('enter the string')\n",
    "if s.isalnum():\n",
    "    print('It is alpha numeric string')\n",
    "    if s.isalpha():\n",
    "        print('It is a alphabet string')\n",
    "        if s.islower():\n",
    "            print('It is lower string')\n",
    "        else:\n",
    "            print('It is upper string')\n",
    "    else:\n",
    "            print('It is a digit')\n",
    "elif s.isspace():\n",
    "    print('It is a space')\n",
    "else:\n",
    "    print('there is a special charcter')"
   ]
  },
  {
   "cell_type": "code",
   "execution_count": 66,
   "metadata": {},
   "outputs": [
    {
     "name": "stdout",
     "output_type": "stream",
     "text": [
      "enter the string@\n",
      "there is a special charcter\n"
     ]
    }
   ],
   "source": [
    "s= input('enter the string')\n",
    "if s.isalnum():\n",
    "    print('It is alpha numeric string')\n",
    "    if s.isalpha():\n",
    "        print('It is a alphabet string')\n",
    "        if s.islower():\n",
    "            print('It is lower string')\n",
    "        else:\n",
    "            print('It is upper string')\n",
    "    else:\n",
    "            print('It is a digit')\n",
    "elif s.isspace():\n",
    "    print('It is a space')\n",
    "else:\n",
    "    print('there is a special charcter')"
   ]
  },
  {
   "cell_type": "code",
   "execution_count": 67,
   "metadata": {},
   "outputs": [
    {
     "data": {
      "text/plain": [
       "'ihba'"
      ]
     },
     "execution_count": 67,
     "metadata": {},
     "output_type": "execute_result"
    }
   ],
   "source": [
    "s = 'abhi'\n",
    "s[::-1]"
   ]
  },
  {
   "cell_type": "code",
   "execution_count": 68,
   "metadata": {},
   "outputs": [
    {
     "name": "stdout",
     "output_type": "stream",
     "text": [
      "ihba"
     ]
    }
   ],
   "source": [
    "#another way to get reversed of the given string with \n",
    "#reversed command\n",
    "\n",
    "reversed(s)\n",
    "for x in reversed(s):\n",
    "    print(x, end='')"
   ]
  },
  {
   "cell_type": "code",
   "execution_count": 69,
   "metadata": {},
   "outputs": [
    {
     "name": "stdout",
     "output_type": "stream",
     "text": [
      "Enter the stringAbhi\n",
      "3\n",
      "ihbA\n"
     ]
    }
   ],
   "source": [
    "s=input('Enter the string')\n",
    "i = len(s) - 1\n",
    "print(i)\n",
    "output = ''\n",
    "while i>=0:\n",
    "    output = output + s[i]\n",
    "    i = i-1\n",
    "print(output)"
   ]
  },
  {
   "cell_type": "code",
   "execution_count": 78,
   "metadata": {},
   "outputs": [
    {
     "name": "stdout",
     "output_type": "stream",
     "text": [
      "Enter an integer:63\n",
      "Factors are:\n",
      "3\n",
      "7\n"
     ]
    }
   ],
   "source": [
    "#Task_2 - Write a program to find out the prime factors of a number.\n",
    "#prime factors of 63 - 3, 3, 7\n",
    "\n",
    "n=int(input(\"Enter an integer:\"))\n",
    "print(\"Factors are:\")\n",
    "i=1\n",
    "while(i<=n):\n",
    "    k=0\n",
    "    if(n%i==0):\n",
    "        j=1\n",
    "        while(j<=i):\n",
    "            if(i%j==0):\n",
    "                k=k+1\n",
    "            j=j+1\n",
    "        if(k==2):\n",
    "            print(i)\n",
    "    i=i+1\n",
    "    "
   ]
  },
  {
   "cell_type": "code",
   "execution_count": 79,
   "metadata": {},
   "outputs": [
    {
     "name": "stdout",
     "output_type": "stream",
     "text": [
      "1 1 0 1 0 "
     ]
    }
   ],
   "source": [
    "#3task- WAF to convert ddecimal to binary number\n",
    "\n",
    "def Decimal_to_binary(num):\n",
    "    if num > 1:\n",
    "        Decimal_to_binary(num//2)\n",
    "    print(num%2, end = \" \")\n",
    "dec_val = 26\n",
    "\n",
    "Decimal_to_binary(dec_val)\n",
    "    "
   ]
  },
  {
   "cell_type": "code",
   "execution_count": 80,
   "metadata": {},
   "outputs": [
    {
     "name": "stdout",
     "output_type": "stream",
     "text": [
      "Enter the number: 5\n",
      "Multiplication Table of 5\n",
      "5 X 1 = 5\n",
      "5 X 2 = 10\n",
      "5 X 3 = 15\n",
      "5 X 4 = 20\n",
      "5 X 5 = 25\n",
      "5 X 6 = 30\n",
      "5 X 7 = 35\n",
      "5 X 8 = 40\n",
      "5 X 9 = 45\n",
      "5 X 10 = 50\n"
     ]
    }
   ],
   "source": [
    "#4task- Write a function that inputs a number and prints the multiplication table of that number\n",
    "num = int(input(\"Enter the number: \"))\n",
    "\n",
    "print(\"Multiplication Table of\", num)\n",
    "for i in range(1, 11):\n",
    "   print(num,\"X\",i,\"=\",num * i)"
   ]
  },
  {
   "cell_type": "code",
   "execution_count": null,
   "metadata": {},
   "outputs": [],
   "source": []
  }
 ],
 "metadata": {
  "kernelspec": {
   "display_name": "Python 3",
   "language": "python",
   "name": "python3"
  },
  "language_info": {
   "codemirror_mode": {
    "name": "ipython",
    "version": 3
   },
   "file_extension": ".py",
   "mimetype": "text/x-python",
   "name": "python",
   "nbconvert_exporter": "python",
   "pygments_lexer": "ipython3",
   "version": "3.7.6"
  }
 },
 "nbformat": 4,
 "nbformat_minor": 4
}
